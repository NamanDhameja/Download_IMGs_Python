{
 "cells": [
  {
   "cell_type": "code",
   "execution_count": 3,
   "metadata": {},
   "outputs": [],
   "source": [
    "import os\n",
    "import requests\n",
    "import math"
   ]
  },
  {
   "cell_type": "code",
   "execution_count": 4,
   "metadata": {},
   "outputs": [
    {
     "name": "stdout",
     "output_type": "stream",
     "text": [
      "Your pdf file is downloaded... and it is opening in the default PDF viewer of your system.\n"
     ]
    },
    {
     "data": {
      "text/plain": [
       "'\\nFor windows users:\\n1. You need to change the format of the file URl\\'s... You can copy the file path by selectingthe file and then right click by pressing shift key.\\n2. Instead of `open` in `os.system(\"open\"+filename)... you need to change it to \"start\".\\n'"
      ]
     },
     "execution_count": 4,
     "metadata": {},
     "output_type": "execute_result"
    }
   ],
   "source": [
    "url='https://hips.hearstapps.com/hmg-prod.s3.amazonaws.com/images/dog-puppy-on-garden-royalty-free-image-1586966191.jpg'\n",
    "r=requests.get(url=url) # show response i.e. is the page available\n",
    "# print(\"\\n The content of this WEBSITE:\\n\")\n",
    "# print(r.content)\n",
    "# we get the binary data\n",
    "# now to convert the non byte data(e.g. html) to a text data\n",
    "#r.content.decode(\"utf-8\")\n",
    "# As the pdf is the byte data therefore the above line is commented.\n",
    "# if you want to see the headers page shown in the `inspect element of the browser`. uncomment the line below\n",
    "#r.headers\n",
    "\n",
    "# As we cannot download whole data at the same time... therefore we divide this into `chunks`\n",
    "chunk_size=256\n",
    "r=requests.get(url,stream=True)\n",
    "# the above command allows the data to download in a stream not like a whole as one\n",
    "\n",
    "content_size=int(r.headers['Content-Length'])  # Amount of data in the website\n",
    "n=math.ceil(content_size/chunk_size)    #No. of times a loop should run... math.ceil() is the greatest integer function of maths\n",
    "\n",
    "# now to save the download the file into the system folders\n",
    "os.chdir('/home/naman/Desktop/Python docs')\n",
    "os.mkdir('Images Downloaded via python')  # Only for the first time\n",
    "os.chdir('Images Downloaded via python')\n",
    "\n",
    "#Read the file and convert to pdf\n",
    "with open(\"puppy.jpg\",\"wb\") as file:\n",
    "    for chunk in r.iter_content(chunk_size=chunk_size):\n",
    "        file.write(chunk)\n",
    "# Iter_content: See docstring\n",
    "file_path=\"/home/naman/Desktop/Python docs/PDFs Downloaded via python/puppy.jpg\"\n",
    "os.system(\"open\"+\"{}\".format(file_path))   # to open the file automatially in the default pdf viewer of the system\n",
    "\n",
    "print(\"Your pdf file is downloaded... and it is opening in the default PDF viewer of your system.\")\n",
    "\n",
    "\"\"\"\n",
    "For windows users:\n",
    "1. You need to change the format of the file URl's... You can copy the file path by selectingthe file and then right click by pressing shift key.\n",
    "2. Instead of `open` in `os.system(\"open\"+filename)... you need to change it to \"start\".\n",
    "\"\"\""
   ]
  },
  {
   "cell_type": "code",
   "execution_count": null,
   "metadata": {},
   "outputs": [],
   "source": []
  }
 ],
 "metadata": {
  "kernelspec": {
   "display_name": "Python 3",
   "language": "python",
   "name": "python3"
  },
  "language_info": {
   "codemirror_mode": {
    "name": "ipython",
    "version": 2
   },
   "file_extension": ".py",
   "mimetype": "text/x-python",
   "name": "python",
   "nbconvert_exporter": "python",
   "pygments_lexer": "ipython2",
   "version": "2.7.17"
  }
 },
 "nbformat": 4,
 "nbformat_minor": 2
}
